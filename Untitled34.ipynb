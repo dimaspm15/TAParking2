{
  "nbformat": 4,
  "nbformat_minor": 0,
  "metadata": {
    "colab": {
      "provenance": [],
      "authorship_tag": "ABX9TyNGZpilB8sAYOyR4XyE0mGl",
      "include_colab_link": true
    },
    "kernelspec": {
      "name": "python3",
      "display_name": "Python 3"
    },
    "language_info": {
      "name": "python"
    }
  },
  "cells": [
    {
      "cell_type": "markdown",
      "metadata": {
        "id": "view-in-github",
        "colab_type": "text"
      },
      "source": [
        "<a href=\"https://colab.research.google.com/github/dimaspm15/TAParking2/blob/master/Untitled34.ipynb\" target=\"_parent\"><img src=\"https://colab.research.google.com/assets/colab-badge.svg\" alt=\"Open In Colab\"/></a>"
      ]
    },
    {
      "cell_type": "code",
      "source": [
        "array = [12, 9, 30, \"A\", \"M\", 99, 82, \"J\", \"N\", \"B\"]\n",
        "\n",
        "# Pisahkan huruf dan angka\n",
        "letters = [x for x in array if isinstance(x, str)]\n",
        "numbers = [x for x in array if isinstance(x, int)]\n",
        "\n",
        "\n",
        "letters.sort()\n",
        "numbers.sort()\n",
        "\n",
        "\n",
        "sorted_array = letters + numbers\n",
        "\n",
        "print(sorted_array)\n"
      ],
      "metadata": {
        "id": "ZSSa7dC_JqIo",
        "outputId": "27853c57-51a0-4451-dc66-4c9bcff22b44",
        "colab": {
          "base_uri": "https://localhost:8080/"
        }
      },
      "execution_count": 2,
      "outputs": [
        {
          "output_type": "stream",
          "name": "stdout",
          "text": [
            "['A', 'B', 'J', 'M', 'N', 9, 12, 30, 82, 99]\n"
          ]
        }
      ]
    },
    {
      "cell_type": "code",
      "source": [
        "def pattern_count(text: str, pattern: str) -> int:\n",
        "    text_len = len(text)\n",
        "    pattern_len = len(pattern)\n",
        "    count = 0\n",
        "\n",
        "    for i in range(text_len - pattern_len + 1):\n",
        "        match = True\n",
        "        for j in range(pattern_len):\n",
        "            if text[i + j] != pattern[j]:\n",
        "                match = False\n",
        "                break\n",
        "        if match:\n",
        "            count += 1\n",
        "\n",
        "    return count\n",
        "\n",
        "\n",
        "print(pattern_count(\"ababcabcab\", \"abc\"))\n"
      ],
      "metadata": {
        "colab": {
          "base_uri": "https://localhost:8080/"
        },
        "id": "97lDxrsdaekm",
        "outputId": "4f320f06-1ca5-4d4c-ac09-3c0e566d0ae3"
      },
      "execution_count": 6,
      "outputs": [
        {
          "output_type": "stream",
          "name": "stdout",
          "text": [
            "2\n"
          ]
        }
      ]
    },
    {
      "cell_type": "code",
      "source": [
        "def hitung_huruf_urut():\n",
        "    teks = input(\"Masukkan teks: \")\n",
        "    hitung = {}\n",
        "\n",
        "    for huruf in teks:\n",
        "        if huruf.isalpha():  # hanya huruf (skip spasi, angka, simbol)\n",
        "            if huruf in hitung:\n",
        "                hitung[huruf] += 1\n",
        "            else:\n",
        "                hitung[huruf] = 1\n",
        "\n",
        "    # Urutkan berdasarkan urutan abjad ASCII (huruf besar dulu)\n",
        "    for huruf in sorted(hitung.keys()):\n",
        "        print(f\"{huruf}: {hitung[huruf]}\")\n",
        "\n",
        "# Contoh pemanggilan\n",
        "hitung_huruf_urut()\n"
      ],
      "metadata": {
        "colab": {
          "base_uri": "https://localhost:8080/"
        },
        "id": "bm2y4naEbYv_",
        "outputId": "24b90851-0b32-44b7-edf4-cfcc13aa6847"
      },
      "execution_count": 7,
      "outputs": [
        {
          "output_type": "stream",
          "name": "stdout",
          "text": [
            "Masukkan teks: dimas putra\n",
            "a: 2\n",
            "d: 1\n",
            "i: 1\n",
            "m: 1\n",
            "p: 1\n",
            "r: 1\n",
            "s: 1\n",
            "t: 1\n",
            "u: 1\n"
          ]
        }
      ]
    }
  ]
}